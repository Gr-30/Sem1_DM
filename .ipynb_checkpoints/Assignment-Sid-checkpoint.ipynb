{
 "cells": [
  {
   "cell_type": "markdown",
   "metadata": {},
   "source": [
    "# 1. Problem Statement\n",
    "To build a classification model from the data collected by a healthcare organization together with a couple of government hospitals about the vitals that would reveal if the person might have a coronary heart disease in the next ten years or not. This model will be helpful in early identification of disease , improving the health conditions and the economy."
   ]
  },
  {
   "cell_type": "markdown",
   "metadata": {},
   "source": [
    "### Importing the required libraries "
   ]
  },
  {
   "cell_type": "code",
   "execution_count": 19,
   "metadata": {},
   "outputs": [],
   "source": [
    "# for manipulating data\n",
    "import pandas as pd\n",
    "import numpy as np\n",
    "from collections import Counter\n",
    "\n",
    "# for visualization\n",
    "import matplotlib.pyplot as plt\n",
    "import seaborn as sns\n",
    "\n",
    "# for the model\n",
    "from sklearn.model_selection import train_test_split\n",
    "\n",
    "# the scaler - for standardisation\n",
    "from sklearn.preprocessing import StandardScaler\n",
    "from sklearn.compose import ColumnTransformer\n",
    "\n",
    "# for Q-Q plots\n",
    "import scipy.stats as stats\n",
    "\n",
    "# for missing data imputation and outlier removal\n",
    "from feature_engine import missing_data_imputers as mdi\n",
    "from feature_engine.outlier_removers import Winsorizer"
   ]
  },
  {
   "cell_type": "markdown",
   "metadata": {},
   "source": [
    "# 1. Data Exploration"
   ]
  },
  {
   "cell_type": "code",
   "execution_count": 20,
   "metadata": {},
   "outputs": [
    {
     "name": "stdout",
     "output_type": "stream",
     "text": [
      "(34281, 25)\n"
     ]
    },
    {
     "data": {
      "text/html": [
       "<div>\n",
       "<style scoped>\n",
       "    .dataframe tbody tr th:only-of-type {\n",
       "        vertical-align: middle;\n",
       "    }\n",
       "\n",
       "    .dataframe tbody tr th {\n",
       "        vertical-align: top;\n",
       "    }\n",
       "\n",
       "    .dataframe thead th {\n",
       "        text-align: right;\n",
       "    }\n",
       "</style>\n",
       "<table border=\"1\" class=\"dataframe\">\n",
       "  <thead>\n",
       "    <tr style=\"text-align: right;\">\n",
       "      <th></th>\n",
       "      <th>ID</th>\n",
       "      <th>IV</th>\n",
       "      <th>A1</th>\n",
       "      <th>A2</th>\n",
       "      <th>A3</th>\n",
       "      <th>A4</th>\n",
       "      <th>A5</th>\n",
       "      <th>A6</th>\n",
       "      <th>A7</th>\n",
       "      <th>A8</th>\n",
       "      <th>...</th>\n",
       "      <th>A14</th>\n",
       "      <th>A15</th>\n",
       "      <th>A16</th>\n",
       "      <th>A17</th>\n",
       "      <th>A18</th>\n",
       "      <th>A19</th>\n",
       "      <th>A20</th>\n",
       "      <th>A21</th>\n",
       "      <th>A22</th>\n",
       "      <th>Target</th>\n",
       "    </tr>\n",
       "  </thead>\n",
       "  <tbody>\n",
       "    <tr>\n",
       "      <th>0</th>\n",
       "      <td>1443894</td>\n",
       "      <td>2049</td>\n",
       "      <td>44</td>\n",
       "      <td>8.0</td>\n",
       "      <td>11</td>\n",
       "      <td>0</td>\n",
       "      <td>0</td>\n",
       "      <td>0</td>\n",
       "      <td>0</td>\n",
       "      <td>38</td>\n",
       "      <td>...</td>\n",
       "      <td>0</td>\n",
       "      <td>0.52</td>\n",
       "      <td>0.69</td>\n",
       "      <td>0</td>\n",
       "      <td>0</td>\n",
       "      <td>0</td>\n",
       "      <td>1</td>\n",
       "      <td>17.078971</td>\n",
       "      <td>0</td>\n",
       "      <td>0</td>\n",
       "    </tr>\n",
       "    <tr>\n",
       "      <th>1</th>\n",
       "      <td>1810849</td>\n",
       "      <td>48</td>\n",
       "      <td>0</td>\n",
       "      <td>8.0</td>\n",
       "      <td>0</td>\n",
       "      <td>0</td>\n",
       "      <td>0</td>\n",
       "      <td>0</td>\n",
       "      <td>0</td>\n",
       "      <td>1</td>\n",
       "      <td>...</td>\n",
       "      <td>0</td>\n",
       "      <td>0.59</td>\n",
       "      <td>0.78</td>\n",
       "      <td>1</td>\n",
       "      <td>0</td>\n",
       "      <td>0</td>\n",
       "      <td>1</td>\n",
       "      <td>17.022384</td>\n",
       "      <td>0</td>\n",
       "      <td>0</td>\n",
       "    </tr>\n",
       "    <tr>\n",
       "      <th>2</th>\n",
       "      <td>2264999</td>\n",
       "      <td>318</td>\n",
       "      <td>2</td>\n",
       "      <td>9.0</td>\n",
       "      <td>0</td>\n",
       "      <td>0</td>\n",
       "      <td>0</td>\n",
       "      <td>0</td>\n",
       "      <td>0</td>\n",
       "      <td>0</td>\n",
       "      <td>...</td>\n",
       "      <td>0</td>\n",
       "      <td>0.94</td>\n",
       "      <td>0.79</td>\n",
       "      <td>1</td>\n",
       "      <td>0</td>\n",
       "      <td>0</td>\n",
       "      <td>0</td>\n",
       "      <td>17.024773</td>\n",
       "      <td>0</td>\n",
       "      <td>0</td>\n",
       "    </tr>\n",
       "    <tr>\n",
       "      <th>3</th>\n",
       "      <td>1931676</td>\n",
       "      <td>62</td>\n",
       "      <td>4</td>\n",
       "      <td>2.0</td>\n",
       "      <td>0</td>\n",
       "      <td>0</td>\n",
       "      <td>0</td>\n",
       "      <td>15</td>\n",
       "      <td>30</td>\n",
       "      <td>7</td>\n",
       "      <td>...</td>\n",
       "      <td>0</td>\n",
       "      <td>0.51</td>\n",
       "      <td>0.47</td>\n",
       "      <td>0</td>\n",
       "      <td>0</td>\n",
       "      <td>0</td>\n",
       "      <td>1</td>\n",
       "      <td>17.074995</td>\n",
       "      <td>0</td>\n",
       "      <td>0</td>\n",
       "    </tr>\n",
       "    <tr>\n",
       "      <th>4</th>\n",
       "      <td>2070885</td>\n",
       "      <td>2</td>\n",
       "      <td>0</td>\n",
       "      <td>8.0</td>\n",
       "      <td>0</td>\n",
       "      <td>0</td>\n",
       "      <td>0</td>\n",
       "      <td>0</td>\n",
       "      <td>1</td>\n",
       "      <td>0</td>\n",
       "      <td>...</td>\n",
       "      <td>0</td>\n",
       "      <td>0.82</td>\n",
       "      <td>0.81</td>\n",
       "      <td>0</td>\n",
       "      <td>0</td>\n",
       "      <td>0</td>\n",
       "      <td>1</td>\n",
       "      <td>17.072697</td>\n",
       "      <td>0</td>\n",
       "      <td>0</td>\n",
       "    </tr>\n",
       "  </tbody>\n",
       "</table>\n",
       "<p>5 rows × 25 columns</p>\n",
       "</div>"
      ],
      "text/plain": [
       "        ID    IV  A1   A2  A3  A4  A5  A6  A7  A8  ...  A14   A15   A16  A17  \\\n",
       "0  1443894  2049  44  8.0  11   0   0   0   0  38  ...    0  0.52  0.69    0   \n",
       "1  1810849    48   0  8.0   0   0   0   0   0   1  ...    0  0.59  0.78    1   \n",
       "2  2264999   318   2  9.0   0   0   0   0   0   0  ...    0  0.94  0.79    1   \n",
       "3  1931676    62   4  2.0   0   0   0  15  30   7  ...    0  0.51  0.47    0   \n",
       "4  2070885     2   0  8.0   0   0   0   0   1   0  ...    0  0.82  0.81    0   \n",
       "\n",
       "   A18  A19  A20        A21  A22  Target  \n",
       "0    0    0    1  17.078971    0       0  \n",
       "1    0    0    1  17.022384    0       0  \n",
       "2    0    0    0  17.024773    0       0  \n",
       "3    0    0    1  17.074995    0       0  \n",
       "4    0    0    1  17.072697    0       0  \n",
       "\n",
       "[5 rows x 25 columns]"
      ]
     },
     "execution_count": 20,
     "metadata": {},
     "output_type": "execute_result"
    }
   ],
   "source": [
    "# load dataset\n",
    "data = pd.read_csv('data_files/Problem2_Data.csv')\n",
    "# Printing the shape of the data and the top 5 rows\n",
    "print(data.shape)\n",
    "data.head()"
   ]
  },
  {
   "cell_type": "markdown",
   "metadata": {},
   "source": [
    "### Types of variables"
   ]
  },
  {
   "cell_type": "code",
   "execution_count": 21,
   "metadata": {
    "collapsed": true
   },
   "outputs": [
    {
     "data": {
      "text/plain": [
       "ID          int64\n",
       "IV          int64\n",
       "A1          int64\n",
       "A2        float64\n",
       "A3          int64\n",
       "A4          int64\n",
       "A5          int64\n",
       "A6          int64\n",
       "A7          int64\n",
       "A8          int64\n",
       "A9          int64\n",
       "A10         int64\n",
       "A11         int64\n",
       "A12         int64\n",
       "A13         int64\n",
       "A14         int64\n",
       "A15       float64\n",
       "A16       float64\n",
       "A17         int64\n",
       "A18         int64\n",
       "A19         int64\n",
       "A20         int64\n",
       "A21       float64\n",
       "A22         int64\n",
       "Target      int64\n",
       "dtype: object"
      ]
     },
     "execution_count": 21,
     "metadata": {},
     "output_type": "execute_result"
    }
   ],
   "source": [
    "# let's inspect the type of variables in pandas\n",
    "data.dtypes"
   ]
  },
  {
   "cell_type": "code",
   "execution_count": 22,
   "metadata": {
    "collapsed": true
   },
   "outputs": [
    {
     "name": "stdout",
     "output_type": "stream",
     "text": [
      "ID [1443894 1810849 2264999 1931676 2070885 1566137 3265646 2809957 1240251\n",
      " 1784378 1533473 1619727 2286638 3126012 1705146 2175794 2121758 2268595\n",
      " 1321868 2136569] \n",
      "\n",
      "IV [2049   48  318   62    2 6648   10   22  160    8   87  183   70   54\n",
      "   14 4995   20    1   13    3] \n",
      "\n",
      "A1 [  44    0    2    4 2327    3   43   64   19    1    6   82   70    8\n",
      "  501  188   12   95   63  244] \n",
      "\n",
      "A2 [ 8.  9.  2.  6. 12. 17. nan  4. 16.  5. 10.  3. 52. 14. 15. 20.  0. 13.\n",
      " 11. 26.] \n",
      "\n",
      "A3 [  11    0 1404    1   13    2   94   53  168   30  336   99   65   14\n",
      "   21  110   69   10    3   55] \n",
      "\n",
      "A4 [  0  18  97 354   1   2   5  20   9   4   3  12   7  43  17   8   6  80\n",
      "  42 447] \n",
      "\n",
      "A5 [    0 11604     3  1250     6   240   174  1260    10    54     1  1578\n",
      "   180   493     9    48    34     2    80   100] \n",
      "\n",
      "A6 [    0    15 23532    12   120  1250    48     1    10     2   480   398\n",
      "  2268   127     3  2418   468     7   925    18] \n",
      "\n",
      "A7 [    0    30     1 35880    21     3   180    29  1250    48    15     2\n",
      "   720   622  2928    10   189     5  3258   804] \n",
      "\n",
      "A8 [   38     1     0     7 10516     3     5    15     4     2    84    53\n",
      "   638   139   591    65   137    55    26    12] \n",
      "\n",
      "A9 [  123     1    24     0 25726    13    59     8     5    35    21     2\n",
      "     6   238     3   191     4  1401   533    55] \n",
      "\n",
      "A10 [  230     1     2    42 52263    20    34   150     0    35    11   153\n",
      "    55     6     5     3     9   435   350    14] \n",
      "\n",
      "A11 [27] \n",
      "\n",
      "A12 [  330     1     2    71 87824    33    51   238     0    58    21   336\n",
      "    82     4     6     5     9   725     3   507] \n",
      "\n",
      "A13 [0 1] \n",
      "\n",
      "A14 [   0    3    1   13  123  990  200   33   98   21   14    2 1320   45\n",
      "   50    6    4   12   24  208] \n",
      "\n",
      "A15 [  0.52   0.59   0.94   0.51   0.82   0.74   0.98   0.99   1.     0.26\n",
      " -99.     0.53   0.17   0.28   0.48   0.79   0.18   0.93   0.77   0.87] \n",
      "\n",
      "A16 [  0.69   0.78   0.79   0.47   0.81   0.5    0.98   0.99   1.     0.74\n",
      "   0.34 -99.     0.     0.54   0.33   0.87   0.37   0.48   0.66   0.95] \n",
      "\n",
      "A17 [0 1] \n",
      "\n",
      "A18 [0 1] \n",
      "\n",
      "A19 [0 1] \n",
      "\n",
      "A20 [1 0] \n",
      "\n",
      "A21 [17.0789707  17.02238393 17.0247734  17.07499526 17.07269654 17.07361874\n",
      " 17.07849626 17.09143576 17.04956216 17.05123661 17.08809621 17.08948433\n",
      " 17.06861012 17.07611966 17.08515321 17.05580966 17.06983211 17.02638697\n",
      " 17.02267256 17.0357633 ] \n",
      "\n",
      "A22 [0 1] \n",
      "\n",
      "Target [0 1] \n",
      "\n"
     ]
    }
   ],
   "source": [
    "# let's inspect the variable values, printing first 20 unique values\n",
    "for var in data.columns:\n",
    "    print(var, data[var].unique()[0:20], '\\n')"
   ]
  },
  {
   "cell_type": "code",
   "execution_count": 23,
   "metadata": {},
   "outputs": [
    {
     "name": "stdout",
     "output_type": "stream",
     "text": [
      "There are 7 discrete variables : ['A11', 'A13', 'A17', 'A18', 'A19', 'A20', 'A22']\n",
      "There are 17 continuous variables ['ID', 'IV', 'A1', 'A2', 'A3', 'A4', 'A5', 'A6', 'A7', 'A8', 'A9', 'A10', 'A12', 'A14', 'A15', 'A16', 'A21']\n"
     ]
    }
   ],
   "source": [
    "# numerical: discrete vs continuous\n",
    "# segregating the data between discrete and continuous\n",
    "discrete = [var for var in data.columns if data[var].dtype!='O' and var!='Target' and data[var].nunique()<10]\n",
    "continuous = [var for var in data.columns if data[var].dtype!='O' and var!='Target' and var not in discrete]\n",
    "\n",
    "print('There are {} discrete variables : {}'.format(len(discrete), discrete))\n",
    "print('There are {} continuous variables {}'.format(len(continuous), continuous))"
   ]
  },
  {
   "cell_type": "code",
   "execution_count": 24,
   "metadata": {},
   "outputs": [
    {
     "name": "stdout",
     "output_type": "stream",
     "text": [
      "A11 Counter({27: 34281})\n",
      "A13 Counter({0: 34218, 1: 63})\n",
      "A17 Counter({0: 27128, 1: 7153})\n",
      "A18 Counter({0: 34270, 1: 11})\n",
      "A19 Counter({0: 29758, 1: 4523})\n",
      "A20 Counter({1: 32991, 0: 1290})\n",
      "A22 Counter({0: 34274, 1: 7})\n"
     ]
    }
   ],
   "source": [
    "# understanding the imbalance of all cardinal values of the discrete variables\n",
    "for col in discrete:\n",
    "    print(col, Counter(data[col]))"
   ]
  },
  {
   "cell_type": "code",
   "execution_count": 28,
   "metadata": {},
   "outputs": [
    {
     "name": "stdout",
     "output_type": "stream",
     "text": [
      "0.3294244625302646\n"
     ]
    }
   ],
   "source": [
    "# Calculating the imbalance in the target variables\n",
    "counterObject = Counter(data['Target'])\n",
    "print(counterObject[1]/(counterObject[0]+counterObject[1]))"
   ]
  },
  {
   "cell_type": "markdown",
   "metadata": {},
   "source": [
    "### Variable characteristics"
   ]
  },
  {
   "cell_type": "code",
   "execution_count": 42,
   "metadata": {},
   "outputs": [
    {
     "data": {
      "text/plain": [
       "ID        0.000000\n",
       "IV        0.000000\n",
       "A1        0.000000\n",
       "A2        0.050844\n",
       "A3        0.000000\n",
       "A4        0.000000\n",
       "A5        0.000000\n",
       "A6        0.000000\n",
       "A7        0.000000\n",
       "A8        0.000000\n",
       "A9        0.000000\n",
       "A10       0.000000\n",
       "A11       0.000000\n",
       "A12       0.000000\n",
       "A13       0.000000\n",
       "A14       0.000000\n",
       "A15       0.000000\n",
       "A16       0.000000\n",
       "A17       0.000000\n",
       "A18       0.000000\n",
       "A19       0.000000\n",
       "A20       0.000000\n",
       "A21       0.000000\n",
       "A22       0.000000\n",
       "Target    0.000000\n",
       "dtype: float64"
      ]
     },
     "execution_count": 42,
     "metadata": {},
     "output_type": "execute_result"
    }
   ],
   "source": [
    "# missing data\n",
    "data.isnull().mean()"
   ]
  },
  {
   "cell_type": "code",
   "execution_count": 66,
   "metadata": {},
   "outputs": [
    {
     "data": {
      "text/plain": [
       "<matplotlib.axes._subplots.AxesSubplot at 0x217f3692da0>"
      ]
     },
     "execution_count": 66,
     "metadata": {},
     "output_type": "execute_result"
    },
    {
     "data": {
      "image/png": "[encoded data removed]",
      "text/plain": [
       "<Figure size 720x288 with 1 Axes>"
      ]
     },
     "metadata": {
      "needs_background": "light"
     },
     "output_type": "display_data"
    }
   ],
   "source": [
    "# outliers\n",
    "data[continuous].boxplot(figsize=(10,4))"
   ]
  },
  {
   "cell_type": "code",
   "execution_count": 61,
   "metadata": {},
   "outputs": [
    {
     "data": {
      "text/plain": [
       "<matplotlib.axes._subplots.AxesSubplot at 0x217f23bd9b0>"
      ]
     },
     "execution_count": 61,
     "metadata": {},
     "output_type": "execute_result"
    },
    {
     "data": {
      "image/png": "[encoded data removed]",
      "text/plain": [
       "<Figure size 720x288 with 1 Axes>"
      ]
     },
     "metadata": {
      "needs_background": "light"
     },
     "output_type": "display_data"
    }
   ],
   "source": [
    "# outliers in discrete\n",
    "data[discrete].boxplot(figsize=(10,4))"
   ]
  },
  {
   "cell_type": "code",
   "execution_count": 62,
   "metadata": {},
   "outputs": [
    {
     "data": {
      "text/html": [
       "<div>\n",
       "<style scoped>\n",
       "    .dataframe tbody tr th:only-of-type {\n",
       "        vertical-align: middle;\n",
       "    }\n",
       "\n",
       "    .dataframe tbody tr th {\n",
       "        vertical-align: top;\n",
       "    }\n",
       "\n",
       "    .dataframe thead th {\n",
       "        text-align: right;\n",
       "    }\n",
       "</style>\n",
       "<table border=\"1\" class=\"dataframe\">\n",
       "  <thead>\n",
       "    <tr style=\"text-align: right;\">\n",
       "      <th></th>\n",
       "      <th>ID</th>\n",
       "      <th>IV</th>\n",
       "      <th>A1</th>\n",
       "      <th>A2</th>\n",
       "      <th>A3</th>\n",
       "      <th>A4</th>\n",
       "      <th>A5</th>\n",
       "      <th>A6</th>\n",
       "      <th>A7</th>\n",
       "      <th>A8</th>\n",
       "      <th>...</th>\n",
       "      <th>A14</th>\n",
       "      <th>A15</th>\n",
       "      <th>A16</th>\n",
       "      <th>A17</th>\n",
       "      <th>A18</th>\n",
       "      <th>A19</th>\n",
       "      <th>A20</th>\n",
       "      <th>A21</th>\n",
       "      <th>A22</th>\n",
       "      <th>Target</th>\n",
       "    </tr>\n",
       "  </thead>\n",
       "  <tbody>\n",
       "    <tr>\n",
       "      <th>count</th>\n",
       "      <td>3.428100e+04</td>\n",
       "      <td>34281.000000</td>\n",
       "      <td>34281.000000</td>\n",
       "      <td>32538.000000</td>\n",
       "      <td>34281.000000</td>\n",
       "      <td>34281.000000</td>\n",
       "      <td>34281.000000</td>\n",
       "      <td>34281.000000</td>\n",
       "      <td>34281.000000</td>\n",
       "      <td>34281.000000</td>\n",
       "      <td>...</td>\n",
       "      <td>34281.000000</td>\n",
       "      <td>34281.000000</td>\n",
       "      <td>34281.000000</td>\n",
       "      <td>34281.000000</td>\n",
       "      <td>34281.000000</td>\n",
       "      <td>34281.000000</td>\n",
       "      <td>34281.000000</td>\n",
       "      <td>34281.000000</td>\n",
       "      <td>34281.000000</td>\n",
       "      <td>34281.000000</td>\n",
       "    </tr>\n",
       "    <tr>\n",
       "      <th>mean</th>\n",
       "      <td>1.979838e+06</td>\n",
       "      <td>236.252005</td>\n",
       "      <td>36.126367</td>\n",
       "      <td>7.355185</td>\n",
       "      <td>22.543071</td>\n",
       "      <td>1.695371</td>\n",
       "      <td>151.959044</td>\n",
       "      <td>274.418453</td>\n",
       "      <td>387.933637</td>\n",
       "      <td>36.482746</td>\n",
       "      <td>...</td>\n",
       "      <td>1.744757</td>\n",
       "      <td>-5.742893</td>\n",
       "      <td>-5.368822</td>\n",
       "      <td>0.208658</td>\n",
       "      <td>0.000321</td>\n",
       "      <td>0.131939</td>\n",
       "      <td>0.962370</td>\n",
       "      <td>17.049826</td>\n",
       "      <td>0.000204</td>\n",
       "      <td>0.329424</td>\n",
       "    </tr>\n",
       "    <tr>\n",
       "      <th>std</th>\n",
       "      <td>6.384855e+05</td>\n",
       "      <td>3326.574620</td>\n",
       "      <td>427.707021</td>\n",
       "      <td>6.165307</td>\n",
       "      <td>359.486291</td>\n",
       "      <td>36.195759</td>\n",
       "      <td>2274.087109</td>\n",
       "      <td>4065.441226</td>\n",
       "      <td>5443.804648</td>\n",
       "      <td>375.931751</td>\n",
       "      <td>...</td>\n",
       "      <td>26.077507</td>\n",
       "      <td>24.618128</td>\n",
       "      <td>23.938095</td>\n",
       "      <td>0.406355</td>\n",
       "      <td>0.017910</td>\n",
       "      <td>0.338429</td>\n",
       "      <td>0.190303</td>\n",
       "      <td>0.028818</td>\n",
       "      <td>0.014288</td>\n",
       "      <td>0.470011</td>\n",
       "    </tr>\n",
       "    <tr>\n",
       "      <th>min</th>\n",
       "      <td>1.058628e+06</td>\n",
       "      <td>-2999.000000</td>\n",
       "      <td>0.000000</td>\n",
       "      <td>0.000000</td>\n",
       "      <td>0.000000</td>\n",
       "      <td>0.000000</td>\n",
       "      <td>0.000000</td>\n",
       "      <td>0.000000</td>\n",
       "      <td>0.000000</td>\n",
       "      <td>0.000000</td>\n",
       "      <td>...</td>\n",
       "      <td>0.000000</td>\n",
       "      <td>-99.000000</td>\n",
       "      <td>-99.000000</td>\n",
       "      <td>0.000000</td>\n",
       "      <td>0.000000</td>\n",
       "      <td>0.000000</td>\n",
       "      <td>0.000000</td>\n",
       "      <td>17.000005</td>\n",
       "      <td>0.000000</td>\n",
       "      <td>0.000000</td>\n",
       "    </tr>\n",
       "    <tr>\n",
       "      <th>25%</th>\n",
       "      <td>1.464342e+06</td>\n",
       "      <td>2.000000</td>\n",
       "      <td>0.000000</td>\n",
       "      <td>2.000000</td>\n",
       "      <td>0.000000</td>\n",
       "      <td>0.000000</td>\n",
       "      <td>0.000000</td>\n",
       "      <td>0.000000</td>\n",
       "      <td>0.000000</td>\n",
       "      <td>0.000000</td>\n",
       "      <td>...</td>\n",
       "      <td>0.000000</td>\n",
       "      <td>0.590000</td>\n",
       "      <td>0.610000</td>\n",
       "      <td>0.000000</td>\n",
       "      <td>0.000000</td>\n",
       "      <td>0.000000</td>\n",
       "      <td>1.000000</td>\n",
       "      <td>17.024869</td>\n",
       "      <td>0.000000</td>\n",
       "      <td>0.000000</td>\n",
       "    </tr>\n",
       "    <tr>\n",
       "      <th>50%</th>\n",
       "      <td>1.841719e+06</td>\n",
       "      <td>8.000000</td>\n",
       "      <td>0.000000</td>\n",
       "      <td>8.000000</td>\n",
       "      <td>0.000000</td>\n",
       "      <td>0.000000</td>\n",
       "      <td>0.000000</td>\n",
       "      <td>2.000000</td>\n",
       "      <td>4.000000</td>\n",
       "      <td>1.000000</td>\n",
       "      <td>...</td>\n",
       "      <td>0.000000</td>\n",
       "      <td>0.810000</td>\n",
       "      <td>0.790000</td>\n",
       "      <td>0.000000</td>\n",
       "      <td>0.000000</td>\n",
       "      <td>0.000000</td>\n",
       "      <td>1.000000</td>\n",
       "      <td>17.049813</td>\n",
       "      <td>0.000000</td>\n",
       "      <td>0.000000</td>\n",
       "    </tr>\n",
       "    <tr>\n",
       "      <th>75%</th>\n",
       "      <td>2.254242e+06</td>\n",
       "      <td>40.000000</td>\n",
       "      <td>4.000000</td>\n",
       "      <td>8.000000</td>\n",
       "      <td>0.000000</td>\n",
       "      <td>0.000000</td>\n",
       "      <td>18.000000</td>\n",
       "      <td>33.000000</td>\n",
       "      <td>48.000000</td>\n",
       "      <td>6.000000</td>\n",
       "      <td>...</td>\n",
       "      <td>0.000000</td>\n",
       "      <td>0.960000</td>\n",
       "      <td>0.940000</td>\n",
       "      <td>0.000000</td>\n",
       "      <td>0.000000</td>\n",
       "      <td>0.000000</td>\n",
       "      <td>1.000000</td>\n",
       "      <td>17.074796</td>\n",
       "      <td>0.000000</td>\n",
       "      <td>1.000000</td>\n",
       "    </tr>\n",
       "    <tr>\n",
       "      <th>max</th>\n",
       "      <td>3.274754e+06</td>\n",
       "      <td>366924.000000</td>\n",
       "      <td>50547.000000</td>\n",
       "      <td>52.000000</td>\n",
       "      <td>31750.000000</td>\n",
       "      <td>2999.000000</td>\n",
       "      <td>260660.000000</td>\n",
       "      <td>438020.000000</td>\n",
       "      <td>533540.000000</td>\n",
       "      <td>21071.000000</td>\n",
       "      <td>...</td>\n",
       "      <td>1488.000000</td>\n",
       "      <td>1.000000</td>\n",
       "      <td>1.000000</td>\n",
       "      <td>1.000000</td>\n",
       "      <td>1.000000</td>\n",
       "      <td>1.000000</td>\n",
       "      <td>1.000000</td>\n",
       "      <td>17.099995</td>\n",
       "      <td>1.000000</td>\n",
       "      <td>1.000000</td>\n",
       "    </tr>\n",
       "  </tbody>\n",
       "</table>\n",
       "<p>8 rows × 25 columns</p>\n",
       "</div>"
      ],
      "text/plain": [
       "                 ID             IV            A1            A2            A3  \\\n",
       "count  3.428100e+04   34281.000000  34281.000000  32538.000000  34281.000000   \n",
       "mean   1.979838e+06     236.252005     36.126367      7.355185     22.543071   \n",
       "std    6.384855e+05    3326.574620    427.707021      6.165307    359.486291   \n",
       "min    1.058628e+06   -2999.000000      0.000000      0.000000      0.000000   \n",
       "25%    1.464342e+06       2.000000      0.000000      2.000000      0.000000   \n",
       "50%    1.841719e+06       8.000000      0.000000      8.000000      0.000000   \n",
       "75%    2.254242e+06      40.000000      4.000000      8.000000      0.000000   \n",
       "max    3.274754e+06  366924.000000  50547.000000     52.000000  31750.000000   \n",
       "\n",
       "                 A4             A5             A6             A7  \\\n",
       "count  34281.000000   34281.000000   34281.000000   34281.000000   \n",
       "mean       1.695371     151.959044     274.418453     387.933637   \n",
       "std       36.195759    2274.087109    4065.441226    5443.804648   \n",
       "min        0.000000       0.000000       0.000000       0.000000   \n",
       "25%        0.000000       0.000000       0.000000       0.000000   \n",
       "50%        0.000000       0.000000       2.000000       4.000000   \n",
       "75%        0.000000      18.000000      33.000000      48.000000   \n",
       "max     2999.000000  260660.000000  438020.000000  533540.000000   \n",
       "\n",
       "                 A8  ...           A14           A15           A16  \\\n",
       "count  34281.000000  ...  34281.000000  34281.000000  34281.000000   \n",
       "mean      36.482746  ...      1.744757     -5.742893     -5.368822   \n",
       "std      375.931751  ...     26.077507     24.618128     23.938095   \n",
       "min        0.000000  ...      0.000000    -99.000000    -99.000000   \n",
       "25%        0.000000  ...      0.000000      0.590000      0.610000   \n",
       "50%        1.000000  ...      0.000000      0.810000      0.790000   \n",
       "75%        6.000000  ...      0.000000      0.960000      0.940000   \n",
       "max    21071.000000  ...   1488.000000      1.000000      1.000000   \n",
       "\n",
       "                A17           A18           A19           A20           A21  \\\n",
       "count  34281.000000  34281.000000  34281.000000  34281.000000  34281.000000   \n",
       "mean       0.208658      0.000321      0.131939      0.962370     17.049826   \n",
       "std        0.406355      0.017910      0.338429      0.190303      0.028818   \n",
       "min        0.000000      0.000000      0.000000      0.000000     17.000005   \n",
       "25%        0.000000      0.000000      0.000000      1.000000     17.024869   \n",
       "50%        0.000000      0.000000      0.000000      1.000000     17.049813   \n",
       "75%        0.000000      0.000000      0.000000      1.000000     17.074796   \n",
       "max        1.000000      1.000000      1.000000      1.000000     17.099995   \n",
       "\n",
       "                A22        Target  \n",
       "count  34281.000000  34281.000000  \n",
       "mean       0.000204      0.329424  \n",
       "std        0.014288      0.470011  \n",
       "min        0.000000      0.000000  \n",
       "25%        0.000000      0.000000  \n",
       "50%        0.000000      0.000000  \n",
       "75%        0.000000      1.000000  \n",
       "max        1.000000      1.000000  \n",
       "\n",
       "[8 rows x 25 columns]"
      ]
     },
     "execution_count": 62,
     "metadata": {},
     "output_type": "execute_result"
    }
   ],
   "source": [
    "# feature magnitude\n",
    "data.describe()"
   ]
  },
  {
   "cell_type": "code",
   "execution_count": null,
   "metadata": {},
   "outputs": [],
   "source": [
    "# separate into training and testing set\n",
    "\n",
    "X_train, X_test, y_train, y_test = train_test_split(\n",
    "    data.drop('Target', axis=1),  # predictors\n",
    "    data['Target'],  # target\n",
    "    test_size=0.2,  # percentage of obs in test set\n",
    "    random_state=0)  # seed to ensure reproducibility\n",
    "\n",
    "X_train.shape, X_test.shape"
   ]
  },
  {
   "cell_type": "code",
   "execution_count": null,
   "metadata": {},
   "outputs": [],
   "source": [
    "X_train_copy = X_train.copy(deep=True)"
   ]
  },
  {
   "cell_type": "markdown",
   "metadata": {},
   "source": [
    "### Missing data imputation"
   ]
  },
  {
   "cell_type": "code",
   "execution_count": null,
   "metadata": {},
   "outputs": [],
   "source": [
    "X_train.A2.isnull().mean()"
   ]
  },
  {
   "cell_type": "code",
   "execution_count": null,
   "metadata": {},
   "outputs": [],
   "source": [
    "## let's check the distribution of a few variables before and after \n",
    "# cca: histogram\n",
    "\n",
    "fig = plt.figure()\n",
    "ax = fig.add_subplot(111)\n",
    "\n",
    "# original data\n",
    "X_train['A2'].hist(bins=50, ax=ax, density=True, color='red')\n"
   ]
  },
  {
   "cell_type": "code",
   "execution_count": null,
   "metadata": {},
   "outputs": [],
   "source": [
    "# we call the imputer from feature-engine\n",
    "# we specify the imputation strategy, median in this case\n",
    "cols_to_use = ['A2']\n",
    "imputer = mdi.MeanMedianImputer(imputation_method='median', variables=cols_to_use)"
   ]
  },
  {
   "cell_type": "code",
   "execution_count": null,
   "metadata": {},
   "outputs": [],
   "source": [
    "# we fit the imputer\n",
    "\n",
    "X_train = imputer.fit_transform(X_train)"
   ]
  },
  {
   "cell_type": "code",
   "execution_count": null,
   "metadata": {},
   "outputs": [],
   "source": [
    "# here we can see the mean assigned to each variable\n",
    "imputer.imputer_dict_"
   ]
  },
  {
   "cell_type": "code",
   "execution_count": null,
   "metadata": {
    "scrolled": true
   },
   "outputs": [],
   "source": [
    "# feature-engine returns a dataframe\n",
    "\n",
    "#X_train_t = imputer.transform(X_train)\n",
    "#X_train_t.head()\n",
    "X_train_copy['A2'].isnull().mean()"
   ]
  },
  {
   "cell_type": "code",
   "execution_count": null,
   "metadata": {},
   "outputs": [],
   "source": [
    "X_train['A2'].isnull().mean()"
   ]
  },
  {
   "cell_type": "code",
   "execution_count": null,
   "metadata": {},
   "outputs": [],
   "source": [
    "# we can see that the distribution has changed \n",
    "# with now more values accumulating towards the median\n",
    "# or median\n",
    "\n",
    "fig = plt.figure()\n",
    "ax = fig.add_subplot(111)\n",
    "\n",
    "# original variable distribution\n",
    "X_train_copy['A2'].plot(kind='kde', ax=ax)\n",
    "\n",
    "# variable imputed with the median\n",
    "X_train['A2'].plot(kind='kde', ax=ax, color='red')\n",
    "\n",
    "# add legends\n",
    "lines, labels = ax.get_legend_handles_labels()\n",
    "ax.legend(lines, labels, loc='best')"
   ]
  },
  {
   "cell_type": "markdown",
   "metadata": {},
   "source": [
    "As mentioned above, the mean / median imputation doesn't distorts the original distribution of the variable A2. As variable is skewed, the mean is biased by the values at the far end of the distribution. Therefore, the median is a better representation of the majority of the values in the variable."
   ]
  },
  {
   "cell_type": "code",
   "execution_count": null,
   "metadata": {},
   "outputs": [],
   "source": [
    "# we can see a change in the variance after mean / median imputation\n",
    "# this is expected, because the percentage of missing data is quite\n",
    "# low in A2, ~5%\n",
    "\n",
    "print('Original variable variance: ', X_train_copy['A2'].var())\n",
    "print('Variance after median imputation: ', X_train['A2'].var())"
   ]
  },
  {
   "cell_type": "code",
   "execution_count": null,
   "metadata": {},
   "outputs": [],
   "source": [
    "# outliers in A2 before median imputation \n",
    "\n",
    "X_train_copy[['A2']].boxplot()"
   ]
  },
  {
   "cell_type": "code",
   "execution_count": null,
   "metadata": {},
   "outputs": [],
   "source": [
    "# outliers in A2 after median imputation \n",
    "\n",
    "X_train[['A2']].boxplot()"
   ]
  },
  {
   "cell_type": "markdown",
   "metadata": {},
   "source": [
    "From the boxplot above, we can see that after the imputation we have few more outliers on the higher A2 values."
   ]
  },
  {
   "cell_type": "code",
   "execution_count": null,
   "metadata": {},
   "outputs": [],
   "source": [
    "# function to create histogram, Q-Q plot and\n",
    "# boxplot. We learned this in section 3 of the course\n",
    "\n",
    "\n",
    "def diagnostic_plots(df, variable):\n",
    "    # function takes a dataframe (df) and\n",
    "    # the variable of interest as arguments\n",
    "\n",
    "    # define figure size\n",
    "    plt.figure(figsize=(16, 4))\n",
    "\n",
    "    # histogram\n",
    "    plt.subplot(1, 3, 1)\n",
    "    sns.distplot(df[variable], bins=30)\n",
    "    plt.title('Histogram')\n",
    "\n",
    "    # Q-Q plot\n",
    "    plt.subplot(1, 3, 2)\n",
    "    stats.probplot(df[variable], dist=\"norm\", plot=plt)\n",
    "    plt.ylabel('Variable quantiles')\n",
    "\n",
    "    # boxplot\n",
    "    plt.subplot(1, 3, 3)\n",
    "    sns.boxplot(y=df[variable])\n",
    "    plt.title('Boxplot')\n",
    "\n",
    "    plt.show()"
   ]
  },
  {
   "cell_type": "code",
   "execution_count": null,
   "metadata": {},
   "outputs": [],
   "source": [
    "# let's find outliers \n",
    "\n",
    "#for column in continuous:\n",
    "diagnostic_plots(X_train, 'A2')"
   ]
  },
  {
   "cell_type": "code",
   "execution_count": null,
   "metadata": {},
   "outputs": [],
   "source": [
    "# create the capper\n",
    "\n",
    "windsoriser = Winsorizer(distribution='skewed', # choose skewed for IQR rule boundaries or gaussian for mean and std\n",
    "                          tail='both', # cap left, right or both tails \n",
    "                          fold=1.5,\n",
    "                          variables=continuous)\n",
    "\n",
    "X_train = windsoriser.fit_transform(X_train)"
   ]
  },
  {
   "cell_type": "code",
   "execution_count": null,
   "metadata": {},
   "outputs": [],
   "source": [
    "#for column in continuous:\n",
    "diagnostic_plots(X_train, 'A2')"
   ]
  },
  {
   "cell_type": "code",
   "execution_count": null,
   "metadata": {},
   "outputs": [],
   "source": [
    "# we can inspect the minimum caps for each variable\n",
    "windsoriser.left_tail_caps_"
   ]
  },
  {
   "cell_type": "code",
   "execution_count": null,
   "metadata": {},
   "outputs": [],
   "source": [
    "windsoriser.transform(X_test)"
   ]
  },
  {
   "cell_type": "code",
   "execution_count": null,
   "metadata": {},
   "outputs": [],
   "source": [
    "X_train.describe()"
   ]
  },
  {
   "cell_type": "code",
   "execution_count": null,
   "metadata": {},
   "outputs": [],
   "source": [
    "# standardisation: with the StandardScaler from sklearn\n",
    "\n",
    "# set up the scaler\n",
    "scaler = StandardScaler()\n",
    "\n",
    "# fit the scaler to the train set, it will learn the parameters\n",
    "scaler.fit(X_train)\n",
    "\n",
    "# transform train and test sets\n",
    "X_train_scaled = scaler.transform(X_train)\n",
    "X_train_scaled = pd.DataFrame(X_train_scaled, columns=X_train.columns)"
   ]
  },
  {
   "cell_type": "code",
   "execution_count": null,
   "metadata": {},
   "outputs": [],
   "source": [
    "np.round(X_train_scaled.describe(), 1)"
   ]
  },
  {
   "cell_type": "markdown",
   "metadata": {},
   "source": [
    "As expected, the mean of each variable, which were not centered at zero, is now around zero and the standard deviation is set to 1. "
   ]
  },
  {
   "cell_type": "code",
   "execution_count": null,
   "metadata": {},
   "outputs": [],
   "source": [
    "# let's compare the variable distributions before and after scaling\n",
    "\n",
    "fig, (ax1, ax2) = plt.subplots(ncols=2, figsize=(12, 5))\n",
    "\n",
    "# before scaling\n",
    "ax1.set_title('Before Scaling')\n",
    "sns.kdeplot(X_train['A1'], ax=ax1)\n",
    "sns.kdeplot(X_train['A2'], ax=ax1)\n",
    "sns.kdeplot(X_train['A5'], ax=ax1)\n",
    "\n",
    "# after scaling\n",
    "ax2.set_title('After Standard Scaling')\n",
    "sns.kdeplot(X_train_scaled['A1'], ax=ax2)\n",
    "sns.kdeplot(X_train_scaled['A2'], ax=ax2)\n",
    "sns.kdeplot(X_train_scaled['A5'], ax=ax2)\n",
    "plt.show()"
   ]
  },
  {
   "cell_type": "markdown",
   "metadata": {},
   "source": [
    "In the above plots standardisation centered all the distributions at zero, but it preserved their original distribution. The value range is not identical, but it looks more homogeneous across the variables."
   ]
  },
  {
   "cell_type": "code",
   "execution_count": null,
   "metadata": {},
   "outputs": [],
   "source": [
    "data[(data['A15']<1) & (data['A15']>-1)].shape"
   ]
  },
  {
   "cell_type": "code",
   "execution_count": null,
   "metadata": {},
   "outputs": [],
   "source": [
    "data[(data['A15'] == -99)].shape"
   ]
  },
  {
   "cell_type": "code",
   "execution_count": null,
   "metadata": {},
   "outputs": [],
   "source": [
    "data.shape[0]"
   ]
  },
  {
   "cell_type": "code",
   "execution_count": null,
   "metadata": {},
   "outputs": [],
   "source": [
    "data[(data['A15'] == 99)].shape"
   ]
  }
 ],
 "metadata": {
  "kernelspec": {
   "display_name": "Python 3",
   "language": "python",
   "name": "python3"
  },
  "language_info": {
   "codemirror_mode": {
    "name": "ipython",
    "version": 3
   },
   "file_extension": ".py",
   "mimetype": "text/x-python",
   "name": "python",
   "nbconvert_exporter": "python",
   "pygments_lexer": "ipython3",
   "version": "3.7.3"
  }
 },
 "nbformat": 4,
 "nbformat_minor": 2
}
